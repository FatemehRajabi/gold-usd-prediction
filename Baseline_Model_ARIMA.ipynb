{
  "nbformat": 4,
  "nbformat_minor": 0,
  "metadata": {
    "colab": {
      "provenance": [],
      "gpuType": "T4",
      "authorship_tag": "ABX9TyNYXyN4etok8NXeIrqs4eI3",
      "include_colab_link": true
    },
    "kernelspec": {
      "name": "python3",
      "display_name": "Python 3"
    },
    "language_info": {
      "name": "python"
    },
    "accelerator": "GPU"
  },
  "cells": [
    {
      "cell_type": "markdown",
      "metadata": {
        "id": "view-in-github",
        "colab_type": "text"
      },
      "source": [
        "<a href=\"https://colab.research.google.com/github/FatemehRajabi/gold-usd-prediction/blob/main/baseline_ARIMA.ipynb\" target=\"_parent\"><img src=\"https://colab.research.google.com/assets/colab-badge.svg\" alt=\"Open In Colab\"/></a>"
      ]
    },
    {
      "cell_type": "code",
      "execution_count": 10,
      "metadata": {
        "collapsed": true,
        "id": "TRddzWG42FNj"
      },
      "outputs": [],
      "source": [
        "#!pip install yfinance scikit-learn\n"
      ]
    },
    {
      "cell_type": "code",
      "source": [
        "import yfinance as yf\n",
        "import pandas as pd\n",
        "import numpy as np\n",
        "import datetime\n",
        "import matplotlib.pyplot as plt\n",
        "from sklearn.preprocessing import MinMaxScaler\n",
        "\n",
        "# Get today's date\n",
        "today = datetime.date.today()\n",
        "\n",
        "# Load Gold ETF (GLD) data from Yahoo Finance\n",
        "data = yf.download('GLD', start='2015-01-01', end=today)\n",
        "\n",
        "# Flatten MultiIndex\n",
        "data.columns = data.columns.get_level_values(0)\n",
        "data.columns.name = None\n",
        "\n",
        "# Keep only relevant columns\n",
        "data = data[['Open', 'High', 'Low', 'Close', 'Volume']].dropna()\n",
        "\n",
        "data.head()\n"
      ],
      "metadata": {
        "colab": {
          "base_uri": "https://localhost:8080/",
          "height": 255
        },
        "collapsed": true,
        "id": "77jCuygW2sZb",
        "outputId": "608db5d9-579b-4ce9-96a5-e7e98ea40399"
      },
      "execution_count": 11,
      "outputs": [
        {
          "output_type": "stream",
          "name": "stderr",
          "text": [
            "\r[*********************100%***********************]  1 of 1 completed\n"
          ]
        },
        {
          "output_type": "execute_result",
          "data": {
            "text/plain": [
              "                  Open        High         Low       Close    Volume\n",
              "Date                                                                \n",
              "2015-01-02  112.489998  114.800003  112.320000  114.080002   7109600\n",
              "2015-01-05  114.779999  116.000000  114.730003  115.800003   8177400\n",
              "2015-01-06  116.220001  117.500000  115.800003  117.120003  11238300\n",
              "2015-01-07  116.470001  116.879997  116.169998  116.430000   6434200\n",
              "2015-01-08  116.449997  116.870003  115.849998  115.940002   7033700"
            ],
            "text/html": [
              "\n",
              "  <div id=\"df-409f0e98-9322-4f43-a00d-c1a23b740d37\" class=\"colab-df-container\">\n",
              "    <div>\n",
              "<style scoped>\n",
              "    .dataframe tbody tr th:only-of-type {\n",
              "        vertical-align: middle;\n",
              "    }\n",
              "\n",
              "    .dataframe tbody tr th {\n",
              "        vertical-align: top;\n",
              "    }\n",
              "\n",
              "    .dataframe thead th {\n",
              "        text-align: right;\n",
              "    }\n",
              "</style>\n",
              "<table border=\"1\" class=\"dataframe\">\n",
              "  <thead>\n",
              "    <tr style=\"text-align: right;\">\n",
              "      <th></th>\n",
              "      <th>Open</th>\n",
              "      <th>High</th>\n",
              "      <th>Low</th>\n",
              "      <th>Close</th>\n",
              "      <th>Volume</th>\n",
              "    </tr>\n",
              "    <tr>\n",
              "      <th>Date</th>\n",
              "      <th></th>\n",
              "      <th></th>\n",
              "      <th></th>\n",
              "      <th></th>\n",
              "      <th></th>\n",
              "    </tr>\n",
              "  </thead>\n",
              "  <tbody>\n",
              "    <tr>\n",
              "      <th>2015-01-02</th>\n",
              "      <td>112.489998</td>\n",
              "      <td>114.800003</td>\n",
              "      <td>112.320000</td>\n",
              "      <td>114.080002</td>\n",
              "      <td>7109600</td>\n",
              "    </tr>\n",
              "    <tr>\n",
              "      <th>2015-01-05</th>\n",
              "      <td>114.779999</td>\n",
              "      <td>116.000000</td>\n",
              "      <td>114.730003</td>\n",
              "      <td>115.800003</td>\n",
              "      <td>8177400</td>\n",
              "    </tr>\n",
              "    <tr>\n",
              "      <th>2015-01-06</th>\n",
              "      <td>116.220001</td>\n",
              "      <td>117.500000</td>\n",
              "      <td>115.800003</td>\n",
              "      <td>117.120003</td>\n",
              "      <td>11238300</td>\n",
              "    </tr>\n",
              "    <tr>\n",
              "      <th>2015-01-07</th>\n",
              "      <td>116.470001</td>\n",
              "      <td>116.879997</td>\n",
              "      <td>116.169998</td>\n",
              "      <td>116.430000</td>\n",
              "      <td>6434200</td>\n",
              "    </tr>\n",
              "    <tr>\n",
              "      <th>2015-01-08</th>\n",
              "      <td>116.449997</td>\n",
              "      <td>116.870003</td>\n",
              "      <td>115.849998</td>\n",
              "      <td>115.940002</td>\n",
              "      <td>7033700</td>\n",
              "    </tr>\n",
              "  </tbody>\n",
              "</table>\n",
              "</div>\n",
              "    <div class=\"colab-df-buttons\">\n",
              "\n",
              "  <div class=\"colab-df-container\">\n",
              "    <button class=\"colab-df-convert\" onclick=\"convertToInteractive('df-409f0e98-9322-4f43-a00d-c1a23b740d37')\"\n",
              "            title=\"Convert this dataframe to an interactive table.\"\n",
              "            style=\"display:none;\">\n",
              "\n",
              "  <svg xmlns=\"http://www.w3.org/2000/svg\" height=\"24px\" viewBox=\"0 -960 960 960\">\n",
              "    <path d=\"M120-120v-720h720v720H120Zm60-500h600v-160H180v160Zm220 220h160v-160H400v160Zm0 220h160v-160H400v160ZM180-400h160v-160H180v160Zm440 0h160v-160H620v160ZM180-180h160v-160H180v160Zm440 0h160v-160H620v160Z\"/>\n",
              "  </svg>\n",
              "    </button>\n",
              "\n",
              "  <style>\n",
              "    .colab-df-container {\n",
              "      display:flex;\n",
              "      gap: 12px;\n",
              "    }\n",
              "\n",
              "    .colab-df-convert {\n",
              "      background-color: #E8F0FE;\n",
              "      border: none;\n",
              "      border-radius: 50%;\n",
              "      cursor: pointer;\n",
              "      display: none;\n",
              "      fill: #1967D2;\n",
              "      height: 32px;\n",
              "      padding: 0 0 0 0;\n",
              "      width: 32px;\n",
              "    }\n",
              "\n",
              "    .colab-df-convert:hover {\n",
              "      background-color: #E2EBFA;\n",
              "      box-shadow: 0px 1px 2px rgba(60, 64, 67, 0.3), 0px 1px 3px 1px rgba(60, 64, 67, 0.15);\n",
              "      fill: #174EA6;\n",
              "    }\n",
              "\n",
              "    .colab-df-buttons div {\n",
              "      margin-bottom: 4px;\n",
              "    }\n",
              "\n",
              "    [theme=dark] .colab-df-convert {\n",
              "      background-color: #3B4455;\n",
              "      fill: #D2E3FC;\n",
              "    }\n",
              "\n",
              "    [theme=dark] .colab-df-convert:hover {\n",
              "      background-color: #434B5C;\n",
              "      box-shadow: 0px 1px 3px 1px rgba(0, 0, 0, 0.15);\n",
              "      filter: drop-shadow(0px 1px 2px rgba(0, 0, 0, 0.3));\n",
              "      fill: #FFFFFF;\n",
              "    }\n",
              "  </style>\n",
              "\n",
              "    <script>\n",
              "      const buttonEl =\n",
              "        document.querySelector('#df-409f0e98-9322-4f43-a00d-c1a23b740d37 button.colab-df-convert');\n",
              "      buttonEl.style.display =\n",
              "        google.colab.kernel.accessAllowed ? 'block' : 'none';\n",
              "\n",
              "      async function convertToInteractive(key) {\n",
              "        const element = document.querySelector('#df-409f0e98-9322-4f43-a00d-c1a23b740d37');\n",
              "        const dataTable =\n",
              "          await google.colab.kernel.invokeFunction('convertToInteractive',\n",
              "                                                    [key], {});\n",
              "        if (!dataTable) return;\n",
              "\n",
              "        const docLinkHtml = 'Like what you see? Visit the ' +\n",
              "          '<a target=\"_blank\" href=https://colab.research.google.com/notebooks/data_table.ipynb>data table notebook</a>'\n",
              "          + ' to learn more about interactive tables.';\n",
              "        element.innerHTML = '';\n",
              "        dataTable['output_type'] = 'display_data';\n",
              "        await google.colab.output.renderOutput(dataTable, element);\n",
              "        const docLink = document.createElement('div');\n",
              "        docLink.innerHTML = docLinkHtml;\n",
              "        element.appendChild(docLink);\n",
              "      }\n",
              "    </script>\n",
              "  </div>\n",
              "\n",
              "\n",
              "<div id=\"df-462783eb-0982-4038-ab85-0c0c972f1fbe\">\n",
              "  <button class=\"colab-df-quickchart\" onclick=\"quickchart('df-462783eb-0982-4038-ab85-0c0c972f1fbe')\"\n",
              "            title=\"Suggest charts\"\n",
              "            style=\"display:none;\">\n",
              "\n",
              "<svg xmlns=\"http://www.w3.org/2000/svg\" height=\"24px\"viewBox=\"0 0 24 24\"\n",
              "     width=\"24px\">\n",
              "    <g>\n",
              "        <path d=\"M19 3H5c-1.1 0-2 .9-2 2v14c0 1.1.9 2 2 2h14c1.1 0 2-.9 2-2V5c0-1.1-.9-2-2-2zM9 17H7v-7h2v7zm4 0h-2V7h2v10zm4 0h-2v-4h2v4z\"/>\n",
              "    </g>\n",
              "</svg>\n",
              "  </button>\n",
              "\n",
              "<style>\n",
              "  .colab-df-quickchart {\n",
              "      --bg-color: #E8F0FE;\n",
              "      --fill-color: #1967D2;\n",
              "      --hover-bg-color: #E2EBFA;\n",
              "      --hover-fill-color: #174EA6;\n",
              "      --disabled-fill-color: #AAA;\n",
              "      --disabled-bg-color: #DDD;\n",
              "  }\n",
              "\n",
              "  [theme=dark] .colab-df-quickchart {\n",
              "      --bg-color: #3B4455;\n",
              "      --fill-color: #D2E3FC;\n",
              "      --hover-bg-color: #434B5C;\n",
              "      --hover-fill-color: #FFFFFF;\n",
              "      --disabled-bg-color: #3B4455;\n",
              "      --disabled-fill-color: #666;\n",
              "  }\n",
              "\n",
              "  .colab-df-quickchart {\n",
              "    background-color: var(--bg-color);\n",
              "    border: none;\n",
              "    border-radius: 50%;\n",
              "    cursor: pointer;\n",
              "    display: none;\n",
              "    fill: var(--fill-color);\n",
              "    height: 32px;\n",
              "    padding: 0;\n",
              "    width: 32px;\n",
              "  }\n",
              "\n",
              "  .colab-df-quickchart:hover {\n",
              "    background-color: var(--hover-bg-color);\n",
              "    box-shadow: 0 1px 2px rgba(60, 64, 67, 0.3), 0 1px 3px 1px rgba(60, 64, 67, 0.15);\n",
              "    fill: var(--button-hover-fill-color);\n",
              "  }\n",
              "\n",
              "  .colab-df-quickchart-complete:disabled,\n",
              "  .colab-df-quickchart-complete:disabled:hover {\n",
              "    background-color: var(--disabled-bg-color);\n",
              "    fill: var(--disabled-fill-color);\n",
              "    box-shadow: none;\n",
              "  }\n",
              "\n",
              "  .colab-df-spinner {\n",
              "    border: 2px solid var(--fill-color);\n",
              "    border-color: transparent;\n",
              "    border-bottom-color: var(--fill-color);\n",
              "    animation:\n",
              "      spin 1s steps(1) infinite;\n",
              "  }\n",
              "\n",
              "  @keyframes spin {\n",
              "    0% {\n",
              "      border-color: transparent;\n",
              "      border-bottom-color: var(--fill-color);\n",
              "      border-left-color: var(--fill-color);\n",
              "    }\n",
              "    20% {\n",
              "      border-color: transparent;\n",
              "      border-left-color: var(--fill-color);\n",
              "      border-top-color: var(--fill-color);\n",
              "    }\n",
              "    30% {\n",
              "      border-color: transparent;\n",
              "      border-left-color: var(--fill-color);\n",
              "      border-top-color: var(--fill-color);\n",
              "      border-right-color: var(--fill-color);\n",
              "    }\n",
              "    40% {\n",
              "      border-color: transparent;\n",
              "      border-right-color: var(--fill-color);\n",
              "      border-top-color: var(--fill-color);\n",
              "    }\n",
              "    60% {\n",
              "      border-color: transparent;\n",
              "      border-right-color: var(--fill-color);\n",
              "    }\n",
              "    80% {\n",
              "      border-color: transparent;\n",
              "      border-right-color: var(--fill-color);\n",
              "      border-bottom-color: var(--fill-color);\n",
              "    }\n",
              "    90% {\n",
              "      border-color: transparent;\n",
              "      border-bottom-color: var(--fill-color);\n",
              "    }\n",
              "  }\n",
              "</style>\n",
              "\n",
              "  <script>\n",
              "    async function quickchart(key) {\n",
              "      const quickchartButtonEl =\n",
              "        document.querySelector('#' + key + ' button');\n",
              "      quickchartButtonEl.disabled = true;  // To prevent multiple clicks.\n",
              "      quickchartButtonEl.classList.add('colab-df-spinner');\n",
              "      try {\n",
              "        const charts = await google.colab.kernel.invokeFunction(\n",
              "            'suggestCharts', [key], {});\n",
              "      } catch (error) {\n",
              "        console.error('Error during call to suggestCharts:', error);\n",
              "      }\n",
              "      quickchartButtonEl.classList.remove('colab-df-spinner');\n",
              "      quickchartButtonEl.classList.add('colab-df-quickchart-complete');\n",
              "    }\n",
              "    (() => {\n",
              "      let quickchartButtonEl =\n",
              "        document.querySelector('#df-462783eb-0982-4038-ab85-0c0c972f1fbe button');\n",
              "      quickchartButtonEl.style.display =\n",
              "        google.colab.kernel.accessAllowed ? 'block' : 'none';\n",
              "    })();\n",
              "  </script>\n",
              "</div>\n",
              "\n",
              "    </div>\n",
              "  </div>\n"
            ],
            "application/vnd.google.colaboratory.intrinsic+json": {
              "type": "dataframe",
              "variable_name": "data",
              "summary": "{\n  \"name\": \"data\",\n  \"rows\": 2582,\n  \"fields\": [\n    {\n      \"column\": \"Date\",\n      \"properties\": {\n        \"dtype\": \"date\",\n        \"min\": \"2015-01-02 00:00:00\",\n        \"max\": \"2025-04-08 00:00:00\",\n        \"num_unique_values\": 2582,\n        \"samples\": [\n          \"2018-03-21 00:00:00\",\n          \"2020-09-30 00:00:00\",\n          \"2018-01-10 00:00:00\"\n        ],\n        \"semantic_type\": \"\",\n        \"description\": \"\"\n      }\n    },\n    {\n      \"column\": \"Open\",\n      \"properties\": {\n        \"dtype\": \"number\",\n        \"std\": 39.32267301720474,\n        \"min\": 100.91999816894531,\n        \"max\": 288.5400085449219,\n        \"num_unique_values\": 2176,\n        \"samples\": [\n          117.36000061035156,\n          183.13999938964844,\n          192.7100067138672\n        ],\n        \"semantic_type\": \"\",\n        \"description\": \"\"\n      }\n    },\n    {\n      \"column\": \"High\",\n      \"properties\": {\n        \"dtype\": \"number\",\n        \"std\": 39.503816329351444,\n        \"min\": 100.98999786376953,\n        \"max\": 289.1300048828125,\n        \"num_unique_values\": 2183,\n        \"samples\": [\n          120.76000213623047,\n          128.1999969482422,\n          120.66999816894531\n        ],\n        \"semantic_type\": \"\",\n        \"description\": \"\"\n      }\n    },\n    {\n      \"column\": \"Low\",\n      \"properties\": {\n        \"dtype\": \"number\",\n        \"std\": 39.09536914122902,\n        \"min\": 100.2300033569336,\n        \"max\": 287.3599853515625,\n        \"num_unique_values\": 2179,\n        \"samples\": [\n          116.2699966430664,\n          116.1500015258789,\n          161.27999877929688\n        ],\n        \"semantic_type\": \"\",\n        \"description\": \"\"\n      }\n    },\n    {\n      \"column\": \"Close\",\n      \"properties\": {\n        \"dtype\": \"number\",\n        \"std\": 39.32088166618182,\n        \"min\": 100.5,\n        \"max\": 288.1600036621094,\n        \"num_unique_values\": 2196,\n        \"samples\": [\n          120.79000091552734,\n          182.32000732421875,\n          125.47000122070312\n        ],\n        \"semantic_type\": \"\",\n        \"description\": \"\"\n      }\n    },\n    {\n      \"column\": \"Volume\",\n      \"properties\": {\n        \"dtype\": \"number\",\n        \"std\": 4528619,\n        \"min\": 1436500,\n        \"max\": 49139000,\n        \"num_unique_values\": 2554,\n        \"samples\": [\n          8419800,\n          4760300,\n          10019000\n        ],\n        \"semantic_type\": \"\",\n        \"description\": \"\"\n      }\n    }\n  ]\n}"
            }
          },
          "metadata": {},
          "execution_count": 11
        }
      ]
    },
    {
      "cell_type": "code",
      "source": [
        "# Simple Moving Averages\n",
        "data['SMA_10'] = data['Close'].rolling(window=10).mean()\n",
        "data['SMA_30'] = data['Close'].rolling(window=30).mean()\n",
        "\n",
        "# Relative Strength Index (RSI)\n",
        "delta = data['Close'].diff()\n",
        "gain = (delta.where(delta > 0, 0)).rolling(window=14).mean()\n",
        "loss = (-delta.where(delta < 0, 0)).rolling(window=14).mean()\n",
        "rs = gain / loss\n",
        "data['RSI_14'] = 100 - (100 / (1 + rs))\n",
        "\n",
        "# Drop rows with NaNs from indicators\n",
        "data.dropna(inplace=True)\n",
        "\n",
        "data.head()"
      ],
      "metadata": {
        "colab": {
          "base_uri": "https://localhost:8080/",
          "height": 237
        },
        "id": "R2c5ZVGt4Y-g",
        "outputId": "bda66457-1f21-4cf4-96ac-8e016add18ab"
      },
      "execution_count": 12,
      "outputs": [
        {
          "output_type": "execute_result",
          "data": {
            "text/plain": [
              "                  Open        High         Low       Close   Volume  \\\n",
              "Date                                                                  \n",
              "2015-02-13  118.050003  118.580002  117.790001  117.980003  4108900   \n",
              "2015-02-17  116.400002  116.540001  115.580002  116.010002  7225200   \n",
              "2015-02-18  115.989998  116.529999  114.989998  116.339996  8336000   \n",
              "2015-02-19  116.400002  116.540001  115.739998  115.940002  6528700   \n",
              "2015-02-20  116.099998  116.459999  115.050003  115.279999  6681700   \n",
              "\n",
              "                SMA_10      SMA_30     RSI_14  \n",
              "Date                                           \n",
              "2015-02-13  119.551000  120.106667  35.742753  \n",
              "2015-02-17  118.910001  120.171001  26.861544  \n",
              "2015-02-18  118.439000  120.189000  29.748256  \n",
              "2015-02-19  117.875000  120.149667  34.165550  \n",
              "2015-02-20  117.224000  120.111334  19.029545  "
            ],
            "text/html": [
              "\n",
              "  <div id=\"df-8680c23f-47f6-4e1f-85ff-456a0af9fcf6\" class=\"colab-df-container\">\n",
              "    <div>\n",
              "<style scoped>\n",
              "    .dataframe tbody tr th:only-of-type {\n",
              "        vertical-align: middle;\n",
              "    }\n",
              "\n",
              "    .dataframe tbody tr th {\n",
              "        vertical-align: top;\n",
              "    }\n",
              "\n",
              "    .dataframe thead th {\n",
              "        text-align: right;\n",
              "    }\n",
              "</style>\n",
              "<table border=\"1\" class=\"dataframe\">\n",
              "  <thead>\n",
              "    <tr style=\"text-align: right;\">\n",
              "      <th></th>\n",
              "      <th>Open</th>\n",
              "      <th>High</th>\n",
              "      <th>Low</th>\n",
              "      <th>Close</th>\n",
              "      <th>Volume</th>\n",
              "      <th>SMA_10</th>\n",
              "      <th>SMA_30</th>\n",
              "      <th>RSI_14</th>\n",
              "    </tr>\n",
              "    <tr>\n",
              "      <th>Date</th>\n",
              "      <th></th>\n",
              "      <th></th>\n",
              "      <th></th>\n",
              "      <th></th>\n",
              "      <th></th>\n",
              "      <th></th>\n",
              "      <th></th>\n",
              "      <th></th>\n",
              "    </tr>\n",
              "  </thead>\n",
              "  <tbody>\n",
              "    <tr>\n",
              "      <th>2015-02-13</th>\n",
              "      <td>118.050003</td>\n",
              "      <td>118.580002</td>\n",
              "      <td>117.790001</td>\n",
              "      <td>117.980003</td>\n",
              "      <td>4108900</td>\n",
              "      <td>119.551000</td>\n",
              "      <td>120.106667</td>\n",
              "      <td>35.742753</td>\n",
              "    </tr>\n",
              "    <tr>\n",
              "      <th>2015-02-17</th>\n",
              "      <td>116.400002</td>\n",
              "      <td>116.540001</td>\n",
              "      <td>115.580002</td>\n",
              "      <td>116.010002</td>\n",
              "      <td>7225200</td>\n",
              "      <td>118.910001</td>\n",
              "      <td>120.171001</td>\n",
              "      <td>26.861544</td>\n",
              "    </tr>\n",
              "    <tr>\n",
              "      <th>2015-02-18</th>\n",
              "      <td>115.989998</td>\n",
              "      <td>116.529999</td>\n",
              "      <td>114.989998</td>\n",
              "      <td>116.339996</td>\n",
              "      <td>8336000</td>\n",
              "      <td>118.439000</td>\n",
              "      <td>120.189000</td>\n",
              "      <td>29.748256</td>\n",
              "    </tr>\n",
              "    <tr>\n",
              "      <th>2015-02-19</th>\n",
              "      <td>116.400002</td>\n",
              "      <td>116.540001</td>\n",
              "      <td>115.739998</td>\n",
              "      <td>115.940002</td>\n",
              "      <td>6528700</td>\n",
              "      <td>117.875000</td>\n",
              "      <td>120.149667</td>\n",
              "      <td>34.165550</td>\n",
              "    </tr>\n",
              "    <tr>\n",
              "      <th>2015-02-20</th>\n",
              "      <td>116.099998</td>\n",
              "      <td>116.459999</td>\n",
              "      <td>115.050003</td>\n",
              "      <td>115.279999</td>\n",
              "      <td>6681700</td>\n",
              "      <td>117.224000</td>\n",
              "      <td>120.111334</td>\n",
              "      <td>19.029545</td>\n",
              "    </tr>\n",
              "  </tbody>\n",
              "</table>\n",
              "</div>\n",
              "    <div class=\"colab-df-buttons\">\n",
              "\n",
              "  <div class=\"colab-df-container\">\n",
              "    <button class=\"colab-df-convert\" onclick=\"convertToInteractive('df-8680c23f-47f6-4e1f-85ff-456a0af9fcf6')\"\n",
              "            title=\"Convert this dataframe to an interactive table.\"\n",
              "            style=\"display:none;\">\n",
              "\n",
              "  <svg xmlns=\"http://www.w3.org/2000/svg\" height=\"24px\" viewBox=\"0 -960 960 960\">\n",
              "    <path d=\"M120-120v-720h720v720H120Zm60-500h600v-160H180v160Zm220 220h160v-160H400v160Zm0 220h160v-160H400v160ZM180-400h160v-160H180v160Zm440 0h160v-160H620v160ZM180-180h160v-160H180v160Zm440 0h160v-160H620v160Z\"/>\n",
              "  </svg>\n",
              "    </button>\n",
              "\n",
              "  <style>\n",
              "    .colab-df-container {\n",
              "      display:flex;\n",
              "      gap: 12px;\n",
              "    }\n",
              "\n",
              "    .colab-df-convert {\n",
              "      background-color: #E8F0FE;\n",
              "      border: none;\n",
              "      border-radius: 50%;\n",
              "      cursor: pointer;\n",
              "      display: none;\n",
              "      fill: #1967D2;\n",
              "      height: 32px;\n",
              "      padding: 0 0 0 0;\n",
              "      width: 32px;\n",
              "    }\n",
              "\n",
              "    .colab-df-convert:hover {\n",
              "      background-color: #E2EBFA;\n",
              "      box-shadow: 0px 1px 2px rgba(60, 64, 67, 0.3), 0px 1px 3px 1px rgba(60, 64, 67, 0.15);\n",
              "      fill: #174EA6;\n",
              "    }\n",
              "\n",
              "    .colab-df-buttons div {\n",
              "      margin-bottom: 4px;\n",
              "    }\n",
              "\n",
              "    [theme=dark] .colab-df-convert {\n",
              "      background-color: #3B4455;\n",
              "      fill: #D2E3FC;\n",
              "    }\n",
              "\n",
              "    [theme=dark] .colab-df-convert:hover {\n",
              "      background-color: #434B5C;\n",
              "      box-shadow: 0px 1px 3px 1px rgba(0, 0, 0, 0.15);\n",
              "      filter: drop-shadow(0px 1px 2px rgba(0, 0, 0, 0.3));\n",
              "      fill: #FFFFFF;\n",
              "    }\n",
              "  </style>\n",
              "\n",
              "    <script>\n",
              "      const buttonEl =\n",
              "        document.querySelector('#df-8680c23f-47f6-4e1f-85ff-456a0af9fcf6 button.colab-df-convert');\n",
              "      buttonEl.style.display =\n",
              "        google.colab.kernel.accessAllowed ? 'block' : 'none';\n",
              "\n",
              "      async function convertToInteractive(key) {\n",
              "        const element = document.querySelector('#df-8680c23f-47f6-4e1f-85ff-456a0af9fcf6');\n",
              "        const dataTable =\n",
              "          await google.colab.kernel.invokeFunction('convertToInteractive',\n",
              "                                                    [key], {});\n",
              "        if (!dataTable) return;\n",
              "\n",
              "        const docLinkHtml = 'Like what you see? Visit the ' +\n",
              "          '<a target=\"_blank\" href=https://colab.research.google.com/notebooks/data_table.ipynb>data table notebook</a>'\n",
              "          + ' to learn more about interactive tables.';\n",
              "        element.innerHTML = '';\n",
              "        dataTable['output_type'] = 'display_data';\n",
              "        await google.colab.output.renderOutput(dataTable, element);\n",
              "        const docLink = document.createElement('div');\n",
              "        docLink.innerHTML = docLinkHtml;\n",
              "        element.appendChild(docLink);\n",
              "      }\n",
              "    </script>\n",
              "  </div>\n",
              "\n",
              "\n",
              "<div id=\"df-f8492274-8ce3-4ded-94ea-29d9fd597198\">\n",
              "  <button class=\"colab-df-quickchart\" onclick=\"quickchart('df-f8492274-8ce3-4ded-94ea-29d9fd597198')\"\n",
              "            title=\"Suggest charts\"\n",
              "            style=\"display:none;\">\n",
              "\n",
              "<svg xmlns=\"http://www.w3.org/2000/svg\" height=\"24px\"viewBox=\"0 0 24 24\"\n",
              "     width=\"24px\">\n",
              "    <g>\n",
              "        <path d=\"M19 3H5c-1.1 0-2 .9-2 2v14c0 1.1.9 2 2 2h14c1.1 0 2-.9 2-2V5c0-1.1-.9-2-2-2zM9 17H7v-7h2v7zm4 0h-2V7h2v10zm4 0h-2v-4h2v4z\"/>\n",
              "    </g>\n",
              "</svg>\n",
              "  </button>\n",
              "\n",
              "<style>\n",
              "  .colab-df-quickchart {\n",
              "      --bg-color: #E8F0FE;\n",
              "      --fill-color: #1967D2;\n",
              "      --hover-bg-color: #E2EBFA;\n",
              "      --hover-fill-color: #174EA6;\n",
              "      --disabled-fill-color: #AAA;\n",
              "      --disabled-bg-color: #DDD;\n",
              "  }\n",
              "\n",
              "  [theme=dark] .colab-df-quickchart {\n",
              "      --bg-color: #3B4455;\n",
              "      --fill-color: #D2E3FC;\n",
              "      --hover-bg-color: #434B5C;\n",
              "      --hover-fill-color: #FFFFFF;\n",
              "      --disabled-bg-color: #3B4455;\n",
              "      --disabled-fill-color: #666;\n",
              "  }\n",
              "\n",
              "  .colab-df-quickchart {\n",
              "    background-color: var(--bg-color);\n",
              "    border: none;\n",
              "    border-radius: 50%;\n",
              "    cursor: pointer;\n",
              "    display: none;\n",
              "    fill: var(--fill-color);\n",
              "    height: 32px;\n",
              "    padding: 0;\n",
              "    width: 32px;\n",
              "  }\n",
              "\n",
              "  .colab-df-quickchart:hover {\n",
              "    background-color: var(--hover-bg-color);\n",
              "    box-shadow: 0 1px 2px rgba(60, 64, 67, 0.3), 0 1px 3px 1px rgba(60, 64, 67, 0.15);\n",
              "    fill: var(--button-hover-fill-color);\n",
              "  }\n",
              "\n",
              "  .colab-df-quickchart-complete:disabled,\n",
              "  .colab-df-quickchart-complete:disabled:hover {\n",
              "    background-color: var(--disabled-bg-color);\n",
              "    fill: var(--disabled-fill-color);\n",
              "    box-shadow: none;\n",
              "  }\n",
              "\n",
              "  .colab-df-spinner {\n",
              "    border: 2px solid var(--fill-color);\n",
              "    border-color: transparent;\n",
              "    border-bottom-color: var(--fill-color);\n",
              "    animation:\n",
              "      spin 1s steps(1) infinite;\n",
              "  }\n",
              "\n",
              "  @keyframes spin {\n",
              "    0% {\n",
              "      border-color: transparent;\n",
              "      border-bottom-color: var(--fill-color);\n",
              "      border-left-color: var(--fill-color);\n",
              "    }\n",
              "    20% {\n",
              "      border-color: transparent;\n",
              "      border-left-color: var(--fill-color);\n",
              "      border-top-color: var(--fill-color);\n",
              "    }\n",
              "    30% {\n",
              "      border-color: transparent;\n",
              "      border-left-color: var(--fill-color);\n",
              "      border-top-color: var(--fill-color);\n",
              "      border-right-color: var(--fill-color);\n",
              "    }\n",
              "    40% {\n",
              "      border-color: transparent;\n",
              "      border-right-color: var(--fill-color);\n",
              "      border-top-color: var(--fill-color);\n",
              "    }\n",
              "    60% {\n",
              "      border-color: transparent;\n",
              "      border-right-color: var(--fill-color);\n",
              "    }\n",
              "    80% {\n",
              "      border-color: transparent;\n",
              "      border-right-color: var(--fill-color);\n",
              "      border-bottom-color: var(--fill-color);\n",
              "    }\n",
              "    90% {\n",
              "      border-color: transparent;\n",
              "      border-bottom-color: var(--fill-color);\n",
              "    }\n",
              "  }\n",
              "</style>\n",
              "\n",
              "  <script>\n",
              "    async function quickchart(key) {\n",
              "      const quickchartButtonEl =\n",
              "        document.querySelector('#' + key + ' button');\n",
              "      quickchartButtonEl.disabled = true;  // To prevent multiple clicks.\n",
              "      quickchartButtonEl.classList.add('colab-df-spinner');\n",
              "      try {\n",
              "        const charts = await google.colab.kernel.invokeFunction(\n",
              "            'suggestCharts', [key], {});\n",
              "      } catch (error) {\n",
              "        console.error('Error during call to suggestCharts:', error);\n",
              "      }\n",
              "      quickchartButtonEl.classList.remove('colab-df-spinner');\n",
              "      quickchartButtonEl.classList.add('colab-df-quickchart-complete');\n",
              "    }\n",
              "    (() => {\n",
              "      let quickchartButtonEl =\n",
              "        document.querySelector('#df-f8492274-8ce3-4ded-94ea-29d9fd597198 button');\n",
              "      quickchartButtonEl.style.display =\n",
              "        google.colab.kernel.accessAllowed ? 'block' : 'none';\n",
              "    })();\n",
              "  </script>\n",
              "</div>\n",
              "\n",
              "    </div>\n",
              "  </div>\n"
            ],
            "application/vnd.google.colaboratory.intrinsic+json": {
              "type": "dataframe",
              "variable_name": "data",
              "summary": "{\n  \"name\": \"data\",\n  \"rows\": 2553,\n  \"fields\": [\n    {\n      \"column\": \"Date\",\n      \"properties\": {\n        \"dtype\": \"date\",\n        \"min\": \"2015-02-13 00:00:00\",\n        \"max\": \"2025-04-08 00:00:00\",\n        \"num_unique_values\": 2553,\n        \"samples\": [\n          \"2022-11-09 00:00:00\",\n          \"2017-08-24 00:00:00\",\n          \"2023-08-30 00:00:00\"\n        ],\n        \"semantic_type\": \"\",\n        \"description\": \"\"\n      }\n    },\n    {\n      \"column\": \"Open\",\n      \"properties\": {\n        \"dtype\": \"number\",\n        \"std\": 39.3802441266182,\n        \"min\": 100.91999816894531,\n        \"max\": 288.5400085449219,\n        \"num_unique_values\": 2160,\n        \"samples\": [\n          246.27999877929688,\n          126.4800033569336,\n          245.25\n        ],\n        \"semantic_type\": \"\",\n        \"description\": \"\"\n      }\n    },\n    {\n      \"column\": \"High\",\n      \"properties\": {\n        \"dtype\": \"number\",\n        \"std\": 39.564199510319476,\n        \"min\": 100.98999786376953,\n        \"max\": 289.1300048828125,\n        \"num_unique_values\": 2165,\n        \"samples\": [\n          177.25,\n          153.50999450683594,\n          168.3000030517578\n        ],\n        \"semantic_type\": \"\",\n        \"description\": \"\"\n      }\n    },\n    {\n      \"column\": \"Low\",\n      \"properties\": {\n        \"dtype\": \"number\",\n        \"std\": 39.151449964881365,\n        \"min\": 100.2300033569336,\n        \"max\": 287.3599853515625,\n        \"num_unique_values\": 2161,\n        \"samples\": [\n          121.05999755859375,\n          151.5399932861328,\n          137.4499969482422\n        ],\n        \"semantic_type\": \"\",\n        \"description\": \"\"\n      }\n    },\n    {\n      \"column\": \"Close\",\n      \"properties\": {\n        \"dtype\": \"number\",\n        \"std\": 39.37980285234093,\n        \"min\": 100.5,\n        \"max\": 288.1600036621094,\n        \"num_unique_values\": 2176,\n        \"samples\": [\n          119.04000091552734,\n          183.1999969482422,\n          186.5\n        ],\n        \"semantic_type\": \"\",\n        \"description\": \"\"\n      }\n    },\n    {\n      \"column\": \"Volume\",\n      \"properties\": {\n        \"dtype\": \"number\",\n        \"std\": 4539787,\n        \"min\": 1436500,\n        \"max\": 49139000,\n        \"num_unique_values\": 2525,\n        \"samples\": [\n          5185900,\n          7343600,\n          5087600\n        ],\n        \"semantic_type\": \"\",\n        \"description\": \"\"\n      }\n    },\n    {\n      \"column\": \"SMA_10\",\n      \"properties\": {\n        \"dtype\": \"number\",\n        \"std\": 38.99830592925109,\n        \"min\": 102.10099945068359,\n        \"max\": 283.0000030517578,\n        \"num_unique_values\": 2525,\n        \"samples\": [\n          167.21600036621095,\n          126.2890007019043,\n          103.59599914550782\n        ],\n        \"semantic_type\": \"\",\n        \"description\": \"\"\n      }\n    },\n    {\n      \"column\": \"SMA_30\",\n      \"properties\": {\n        \"dtype\": \"number\",\n        \"std\": 38.170275351577665,\n        \"min\": 102.31799952189128,\n        \"max\": 275.7046661376953,\n        \"num_unique_values\": 2548,\n        \"samples\": [\n          114.87833404541016,\n          108.31166661580404,\n          176.6963322957357\n        ],\n        \"semantic_type\": \"\",\n        \"description\": \"\"\n      }\n    },\n    {\n      \"column\": \"RSI_14\",\n      \"properties\": {\n        \"dtype\": \"number\",\n        \"std\": 17.458241499862833,\n        \"min\": 5.010671386369253,\n        \"max\": 99.1198929703906,\n        \"num_unique_values\": 2546,\n        \"samples\": [\n          47.61226316493541,\n          49.455028126909944,\n          57.43710969075549\n        ],\n        \"semantic_type\": \"\",\n        \"description\": \"\"\n      }\n    }\n  ]\n}"
            }
          },
          "metadata": {},
          "execution_count": 12
        }
      ]
    },
    {
      "cell_type": "code",
      "source": [
        "# Normalize all features\n",
        "scaler = MinMaxScaler()\n",
        "scaled_data = scaler.fit_transform(data)\n",
        "print(\"Scaled shape:\", scaled_data.shape)"
      ],
      "metadata": {
        "colab": {
          "base_uri": "https://localhost:8080/"
        },
        "id": "AHw7QcfQ3gKp",
        "outputId": "216fc770-f71e-4976-dcc8-3bec54f5e0b9"
      },
      "execution_count": 13,
      "outputs": [
        {
          "output_type": "stream",
          "name": "stdout",
          "text": [
            "Scaled shape: (2553, 8)\n"
          ]
        }
      ]
    },
    {
      "cell_type": "code",
      "source": [
        "# Create sequences (60 timesteps back)\n",
        "sequence_length = 60\n",
        "X = []\n",
        "y = []\n",
        "\n",
        "for i in range(sequence_length, len(scaled_data)):\n",
        "    X.append(scaled_data[i-sequence_length:i])  # shape: (60, 8)\n",
        "    y.append(scaled_data[i, 3])  # predict the Close price (index 3)\n",
        "\n",
        "X = np.array(X)\n",
        "y = np.array(y)\n",
        "\n",
        "print(\"X shape:\", X.shape)  # (samples, 60, 8)\n",
        "print(\"y shape:\", y.shape)  # (samples,)"
      ],
      "metadata": {
        "colab": {
          "base_uri": "https://localhost:8080/"
        },
        "id": "yp1G9sCn6PmX",
        "outputId": "b39aa746-3f2f-428f-b822-6fa94a318022"
      },
      "execution_count": 14,
      "outputs": [
        {
          "output_type": "stream",
          "name": "stdout",
          "text": [
            "X shape: (2493, 60, 8)\n",
            "y shape: (2493,)\n"
          ]
        }
      ]
    },
    {
      "cell_type": "code",
      "source": [
        "from sklearn.model_selection import train_test_split\n",
        "\n",
        "# 80% train, 20% test (no shuffling for time series)\n",
        "X_train, X_test, y_train, y_test = train_test_split(\n",
        "    X, y, test_size=0.2, shuffle=False\n",
        ")"
      ],
      "metadata": {
        "id": "XqLpXnuuYtMm"
      },
      "execution_count": 15,
      "outputs": []
    },
    {
      "cell_type": "code",
      "source": [
        "# pip install pandas matplotlib pmdarima statsmodels scikit-learn\n"
      ],
      "metadata": {
        "id": "KVV7Fjtj1dxU",
        "collapsed": true
      },
      "execution_count": 16,
      "outputs": []
    },
    {
      "cell_type": "code",
      "source": [
        "from statsmodels.tsa.arima.model import ARIMA\n",
        "from sklearn.metrics import mean_squared_error, mean_absolute_error\n",
        "\n",
        "\n",
        "# y_train and y_test must be 1D Series or arrays\n",
        "y_train = pd.Series(y_train).reset_index(drop=True)\n",
        "y_test = pd.Series(y_test).reset_index(drop=True)\n",
        "\n",
        "# Manually set ARIMA(p, d, q) parameters\n",
        "model = ARIMA(y_train, order=(4,2,2))\n",
        "model_fit = model.fit()\n",
        "\n",
        "# Forecast same number of steps as test set\n",
        "forecast = model_fit.forecast(steps=len(y_test))\n",
        "\n",
        "# Evaluation\n",
        "rmse = np.sqrt(mean_squared_error(y_test, forecast))\n",
        "mae = mean_absolute_error(y_test, forecast)\n",
        "\n",
        "print(f\"RMSE: {rmse:.4f}\")\n",
        "print(f\"MAE: {mae:.4f}\")\n",
        "\n",
        "# Plot\n",
        "plt.figure(figsize=(10, 5))\n",
        "plt.plot(y_test.index, y_test, label='Actual')\n",
        "plt.plot(y_test.index, forecast, label='ARIMA Forecast', color='red')\n",
        "plt.title(\"ARIMA Forecast vs Actual (Gold vs USD)\")\n",
        "plt.xlabel(\"Time Step\")\n",
        "plt.ylabel(\"Price\")\n",
        "plt.legend()\n",
        "plt.grid(True)\n",
        "plt.show()\n"
      ],
      "metadata": {
        "colab": {
          "base_uri": "https://localhost:8080/",
          "height": 556
        },
        "id": "g9rOOyQW1r-e",
        "outputId": "ad230281-aecb-4225-c81f-630fbd0abcab"
      },
      "execution_count": 17,
      "outputs": [
        {
          "output_type": "stream",
          "name": "stderr",
          "text": [
            "/usr/local/lib/python3.11/dist-packages/statsmodels/base/model.py:607: ConvergenceWarning: Maximum Likelihood optimization failed to converge. Check mle_retvals\n",
            "  warnings.warn(\"Maximum Likelihood optimization failed to \"\n"
          ]
        },
        {
          "output_type": "stream",
          "name": "stdout",
          "text": [
            "RMSE: 0.0889\n",
            "MAE: 0.0741\n"
          ]
        },
        {
          "output_type": "display_data",
          "data": {
            "text/plain": [
              "<Figure size 1000x500 with 1 Axes>"
            ],
            "image/png": "[encoded data removed]"
          },
          "metadata": {}
        }
      ]
    },
    {
      "cell_type": "code",
      "source": [
        "# Grid of p, d, q\n",
        "p_values = range(0, 5)\n",
        "d_values = range(0, 3)\n",
        "q_values = range(0, 5)\n",
        "\n",
        "best_score = float(\"inf\")\n",
        "best_params = None\n",
        "results = []\n",
        "\n",
        "print(\"Starting grid search...\")\n",
        "\n",
        "for p in p_values:\n",
        "    for d in d_values:\n",
        "        for q in q_values:\n",
        "            try:\n",
        "                model = ARIMA(y_train, order=(p, d, q))\n",
        "                model_fit = model.fit()\n",
        "                forecast = model_fit.forecast(steps=len(y_test))\n",
        "                rmse = np.sqrt(mean_squared_error(y_test, forecast))\n",
        "                mae = mean_absolute_error(y_test, forecast)\n",
        "                results.append(((p, d, q), rmse, mae))\n",
        "\n",
        "                if rmse < best_score:\n",
        "                    best_score = rmse\n",
        "                    best_params = (p, d, q)\n",
        "\n",
        "                print(f\"Checked ARIMA({p},{d},{q}) → RMSE: {rmse:.4f}, MAE: {mae:.4f}\")\n",
        "            except Exception as e:\n",
        "                print(f\"ARIMA({p},{d},{q}) failed: {e}\")\n",
        "\n",
        "print(\"\\nBest ARIMA order:\", best_params)\n",
        "print(f\"Lowest RMSE: {best_score:.4f}\")\n",
        "\n",
        "# Step 2: Refit best model\n",
        "print(\"\\nRefitting best model...\")\n",
        "best_model = ARIMA(y_train, order=best_params)\n",
        "best_fit = best_model.fit()\n",
        "forecast = best_fit.forecast(steps=len(y_test))\n",
        "\n",
        "# Step 3: De-normalize both predictions and actuals\n",
        "forecast_2d = np.array(forecast).reshape(-1, 1)\n",
        "y_test_2d = np.array(y_test).reshape(-1, 1)\n",
        "\n",
        "# Index 3 corresponds to 'Close' in the original data\n",
        "def inverse_transform_single_column(scaler, data_col, column_index=3):\n",
        "    dummy = np.zeros((len(data_col), scaler.n_features_in_))\n",
        "    dummy[:, column_index] = data_col.flatten()\n",
        "    inverse = scaler.inverse_transform(dummy)\n",
        "    return inverse[:, column_index]\n",
        "\n",
        "# De-normalize\n",
        "forecast_original = inverse_transform_single_column(scaler, forecast_2d, column_index=3)\n",
        "y_test_original = inverse_transform_single_column(scaler, y_test_2d, column_index=3)\n",
        "\n",
        "# Step 4: Recalculate error on original scale\n",
        "rmse_real = np.sqrt(mean_squared_error(y_test_original, forecast_original))\n",
        "mae_real = mean_absolute_error(y_test_original, forecast_original)\n",
        "\n",
        "print(f\"De-normalized RMSE: {rmse_real:.4f}\")\n",
        "print(f\"De-normalized MAE: {mae_real:.4f}\")\n",
        "\n",
        "\n",
        "# Step 5: Plot on original price scale\n",
        "plt.figure(figsize=(12, 6))\n",
        "plt.plot(y_test_original, label='Actual Price')\n",
        "plt.plot(forecast_original, label=f'ARIMA{best_params} Forecast', color='red')\n",
        "plt.title(f\"ARIMA Forecast vs Actual (Original Price Scale) - Order={best_params}\")\n",
        "plt.xlabel(\"Time Step\")\n",
        "plt.ylabel(\"Gold Price (USD)\")\n",
        "plt.legend()\n",
        "plt.grid(True)\n",
        "plt.tight_layout()\n",
        "plt.show()\n"
      ],
      "metadata": {
        "colab": {
          "base_uri": "https://localhost:8080/",
          "height": 1000
        },
        "id": "gtWnYM6-6HLX",
        "outputId": "c7563dcf-bac1-4a47-8be7-f6ccac621f7c"
      },
      "execution_count": 18,
      "outputs": [
        {
          "output_type": "stream",
          "name": "stdout",
          "text": [
            "Starting grid search...\n",
            "Checked ARIMA(0,0,0) → RMSE: 0.4206, MAE: 0.3855\n"
          ]
        },
        {
          "output_type": "stream",
          "name": "stderr",
          "text": [
            "/usr/local/lib/python3.11/dist-packages/statsmodels/tsa/statespace/sarimax.py:978: UserWarning: Non-invertible starting MA parameters found. Using zeros as starting parameters.\n",
            "  warn('Non-invertible starting MA parameters found.'\n"
          ]
        },
        {
          "output_type": "stream",
          "name": "stdout",
          "text": [
            "Checked ARIMA(0,0,1) → RMSE: 0.4205, MAE: 0.3852\n",
            "Checked ARIMA(0,0,2) → RMSE: 0.4203, MAE: 0.3849\n"
          ]
        },
        {
          "output_type": "stream",
          "name": "stderr",
          "text": [
            "/usr/local/lib/python3.11/dist-packages/statsmodels/tsa/statespace/sarimax.py:978: UserWarning: Non-invertible starting MA parameters found. Using zeros as starting parameters.\n",
            "  warn('Non-invertible starting MA parameters found.'\n"
          ]
        },
        {
          "output_type": "stream",
          "name": "stdout",
          "text": [
            "Checked ARIMA(0,0,3) → RMSE: 0.4202, MAE: 0.3846\n"
          ]
        },
        {
          "output_type": "stream",
          "name": "stderr",
          "text": [
            "/usr/local/lib/python3.11/dist-packages/statsmodels/tsa/statespace/sarimax.py:978: UserWarning: Non-invertible starting MA parameters found. Using zeros as starting parameters.\n",
            "  warn('Non-invertible starting MA parameters found.'\n"
          ]
        },
        {
          "output_type": "stream",
          "name": "stdout",
          "text": [
            "Checked ARIMA(0,0,4) → RMSE: 0.4202, MAE: 0.3845\n",
            "Checked ARIMA(0,1,0) → RMSE: 0.2166, MAE: 0.1587\n"
          ]
        },
        {
          "output_type": "stream",
          "name": "stderr",
          "text": [
            "/usr/local/lib/python3.11/dist-packages/statsmodels/base/model.py:607: ConvergenceWarning: Maximum Likelihood optimization failed to converge. Check mle_retvals\n",
            "  warnings.warn(\"Maximum Likelihood optimization failed to \"\n"
          ]
        },
        {
          "output_type": "stream",
          "name": "stdout",
          "text": [
            "Checked ARIMA(0,1,1) → RMSE: 0.2165, MAE: 0.1586\n"
          ]
        },
        {
          "output_type": "stream",
          "name": "stderr",
          "text": [
            "/usr/local/lib/python3.11/dist-packages/statsmodels/base/model.py:607: ConvergenceWarning: Maximum Likelihood optimization failed to converge. Check mle_retvals\n",
            "  warnings.warn(\"Maximum Likelihood optimization failed to \"\n"
          ]
        },
        {
          "output_type": "stream",
          "name": "stdout",
          "text": [
            "Checked ARIMA(0,1,2) → RMSE: 0.2168, MAE: 0.1588\n",
            "Checked ARIMA(0,1,3) → RMSE: 0.2167, MAE: 0.1588\n",
            "Checked ARIMA(0,1,4) → RMSE: 0.2167, MAE: 0.1588\n",
            "Checked ARIMA(0,2,0) → RMSE: 1.2049, MAE: 1.0760\n",
            "Checked ARIMA(0,2,1) → RMSE: 0.1386, MAE: 0.1098\n"
          ]
        },
        {
          "output_type": "stream",
          "name": "stderr",
          "text": [
            "/usr/local/lib/python3.11/dist-packages/statsmodels/base/model.py:607: ConvergenceWarning: Maximum Likelihood optimization failed to converge. Check mle_retvals\n",
            "  warnings.warn(\"Maximum Likelihood optimization failed to \"\n"
          ]
        },
        {
          "output_type": "stream",
          "name": "stdout",
          "text": [
            "Checked ARIMA(0,2,2) → RMSE: 0.1385, MAE: 0.1098\n"
          ]
        },
        {
          "output_type": "stream",
          "name": "stderr",
          "text": [
            "/usr/local/lib/python3.11/dist-packages/statsmodels/base/model.py:607: ConvergenceWarning: Maximum Likelihood optimization failed to converge. Check mle_retvals\n",
            "  warnings.warn(\"Maximum Likelihood optimization failed to \"\n"
          ]
        },
        {
          "output_type": "stream",
          "name": "stdout",
          "text": [
            "Checked ARIMA(0,2,3) → RMSE: 0.1347, MAE: 0.1073\n",
            "Checked ARIMA(0,2,4) → RMSE: 0.1970, MAE: 0.1873\n",
            "Checked ARIMA(1,0,0) → RMSE: 0.2609, MAE: 0.1925\n",
            "Checked ARIMA(1,0,1) → RMSE: 0.2630, MAE: 0.1942\n",
            "Checked ARIMA(1,0,2) → RMSE: 0.2585, MAE: 0.1906\n",
            "Checked ARIMA(1,0,3) → RMSE: 0.2602, MAE: 0.1919\n",
            "Checked ARIMA(1,0,4) → RMSE: 0.2618, MAE: 0.1933\n"
          ]
        },
        {
          "output_type": "stream",
          "name": "stderr",
          "text": [
            "/usr/local/lib/python3.11/dist-packages/statsmodels/base/model.py:607: ConvergenceWarning: Maximum Likelihood optimization failed to converge. Check mle_retvals\n",
            "  warnings.warn(\"Maximum Likelihood optimization failed to \"\n"
          ]
        },
        {
          "output_type": "stream",
          "name": "stdout",
          "text": [
            "Checked ARIMA(1,1,0) → RMSE: 0.2164, MAE: 0.1586\n",
            "Checked ARIMA(1,1,1) → RMSE: 0.2166, MAE: 0.1587\n",
            "Checked ARIMA(1,1,2) → RMSE: 0.2167, MAE: 0.1588\n",
            "Checked ARIMA(1,1,3) → RMSE: 0.2166, MAE: 0.1587\n",
            "Checked ARIMA(1,1,4) → RMSE: 0.2167, MAE: 0.1588\n",
            "Checked ARIMA(1,2,0) → RMSE: 1.3304, MAE: 1.1851\n",
            "Checked ARIMA(1,2,1) → RMSE: 0.1385, MAE: 0.1098\n",
            "Checked ARIMA(1,2,2) → RMSE: 0.1465, MAE: 0.1148\n",
            "Checked ARIMA(1,2,3) → RMSE: 0.4377, MAE: 0.4063\n",
            "Checked ARIMA(1,2,4) → RMSE: 0.4019, MAE: 0.3746\n"
          ]
        },
        {
          "output_type": "stream",
          "name": "stderr",
          "text": [
            "/usr/local/lib/python3.11/dist-packages/statsmodels/base/model.py:607: ConvergenceWarning: Maximum Likelihood optimization failed to converge. Check mle_retvals\n",
            "  warnings.warn(\"Maximum Likelihood optimization failed to \"\n",
            "/usr/local/lib/python3.11/dist-packages/statsmodels/tsa/statespace/sarimax.py:966: UserWarning: Non-stationary starting autoregressive parameters found. Using zeros as starting parameters.\n",
            "  warn('Non-stationary starting autoregressive parameters'\n",
            "/usr/local/lib/python3.11/dist-packages/statsmodels/tsa/statespace/sarimax.py:978: UserWarning: Non-invertible starting MA parameters found. Using zeros as starting parameters.\n",
            "  warn('Non-invertible starting MA parameters found.'\n"
          ]
        },
        {
          "output_type": "stream",
          "name": "stdout",
          "text": [
            "Checked ARIMA(2,0,0) → RMSE: 0.2635, MAE: 0.1946\n",
            "Checked ARIMA(2,0,1) → RMSE: 0.2585, MAE: 0.1907\n",
            "Checked ARIMA(2,0,2) → RMSE: 0.2596, MAE: 0.1914\n",
            "Checked ARIMA(2,0,3) → RMSE: 0.2634, MAE: 0.1945\n"
          ]
        },
        {
          "output_type": "stream",
          "name": "stderr",
          "text": [
            "/usr/local/lib/python3.11/dist-packages/statsmodels/base/model.py:607: ConvergenceWarning: Maximum Likelihood optimization failed to converge. Check mle_retvals\n",
            "  warnings.warn(\"Maximum Likelihood optimization failed to \"\n"
          ]
        },
        {
          "output_type": "stream",
          "name": "stdout",
          "text": [
            "Checked ARIMA(2,0,4) → RMSE: 0.2628, MAE: 0.1940\n",
            "Checked ARIMA(2,1,0) → RMSE: 0.2168, MAE: 0.1588\n",
            "Checked ARIMA(2,1,1) → RMSE: 0.2167, MAE: 0.1588\n",
            "Checked ARIMA(2,1,2) → RMSE: 0.2167, MAE: 0.1588\n",
            "Checked ARIMA(2,1,3) → RMSE: 0.2167, MAE: 0.1588\n",
            "Checked ARIMA(2,1,4) → RMSE: 0.2167, MAE: 0.1588\n",
            "Checked ARIMA(2,2,0) → RMSE: 0.6967, MAE: 0.6334\n"
          ]
        },
        {
          "output_type": "stream",
          "name": "stderr",
          "text": [
            "/usr/local/lib/python3.11/dist-packages/statsmodels/base/model.py:607: ConvergenceWarning: Maximum Likelihood optimization failed to converge. Check mle_retvals\n",
            "  warnings.warn(\"Maximum Likelihood optimization failed to \"\n"
          ]
        },
        {
          "output_type": "stream",
          "name": "stdout",
          "text": [
            "Checked ARIMA(2,2,1) → RMSE: 0.1365, MAE: 0.1084\n",
            "Checked ARIMA(2,2,2) → RMSE: 0.1126, MAE: 0.0925\n"
          ]
        },
        {
          "output_type": "stream",
          "name": "stderr",
          "text": [
            "/usr/local/lib/python3.11/dist-packages/statsmodels/base/model.py:607: ConvergenceWarning: Maximum Likelihood optimization failed to converge. Check mle_retvals\n",
            "  warnings.warn(\"Maximum Likelihood optimization failed to \"\n"
          ]
        },
        {
          "output_type": "stream",
          "name": "stdout",
          "text": [
            "Checked ARIMA(2,2,3) → RMSE: 0.1259, MAE: 0.1017\n"
          ]
        },
        {
          "output_type": "stream",
          "name": "stderr",
          "text": [
            "/usr/local/lib/python3.11/dist-packages/statsmodels/base/model.py:607: ConvergenceWarning: Maximum Likelihood optimization failed to converge. Check mle_retvals\n",
            "  warnings.warn(\"Maximum Likelihood optimization failed to \"\n"
          ]
        },
        {
          "output_type": "stream",
          "name": "stdout",
          "text": [
            "Checked ARIMA(2,2,4) → RMSE: 0.0897, MAE: 0.0749\n"
          ]
        },
        {
          "output_type": "stream",
          "name": "stderr",
          "text": [
            "/usr/local/lib/python3.11/dist-packages/statsmodels/base/model.py:607: ConvergenceWarning: Maximum Likelihood optimization failed to converge. Check mle_retvals\n",
            "  warnings.warn(\"Maximum Likelihood optimization failed to \"\n"
          ]
        },
        {
          "output_type": "stream",
          "name": "stdout",
          "text": [
            "Checked ARIMA(3,0,0) → RMSE: 0.2571, MAE: 0.1895\n",
            "Checked ARIMA(3,0,1) → RMSE: 0.2588, MAE: 0.1909\n",
            "Checked ARIMA(3,0,2) → RMSE: 0.2598, MAE: 0.1917\n",
            "Checked ARIMA(3,0,3) → RMSE: 0.2640, MAE: 0.1950\n",
            "Checked ARIMA(3,0,4) → RMSE: 0.2608, MAE: 0.1925\n",
            "Checked ARIMA(3,1,0) → RMSE: 0.2167, MAE: 0.1588\n",
            "Checked ARIMA(3,1,1) → RMSE: 0.2167, MAE: 0.1588\n"
          ]
        },
        {
          "output_type": "stream",
          "name": "stderr",
          "text": [
            "/usr/local/lib/python3.11/dist-packages/statsmodels/tsa/statespace/sarimax.py:966: UserWarning: Non-stationary starting autoregressive parameters found. Using zeros as starting parameters.\n",
            "  warn('Non-stationary starting autoregressive parameters'\n",
            "/usr/local/lib/python3.11/dist-packages/statsmodels/tsa/statespace/sarimax.py:978: UserWarning: Non-invertible starting MA parameters found. Using zeros as starting parameters.\n",
            "  warn('Non-invertible starting MA parameters found.'\n"
          ]
        },
        {
          "output_type": "stream",
          "name": "stdout",
          "text": [
            "Checked ARIMA(3,1,2) → RMSE: 0.2167, MAE: 0.1588\n",
            "Checked ARIMA(3,1,3) → RMSE: 0.2167, MAE: 0.1588\n",
            "Checked ARIMA(3,1,4) → RMSE: 0.2167, MAE: 0.1588\n",
            "Checked ARIMA(3,2,0) → RMSE: 0.2590, MAE: 0.2454\n"
          ]
        },
        {
          "output_type": "stream",
          "name": "stderr",
          "text": [
            "/usr/local/lib/python3.11/dist-packages/statsmodels/base/model.py:607: ConvergenceWarning: Maximum Likelihood optimization failed to converge. Check mle_retvals\n",
            "  warnings.warn(\"Maximum Likelihood optimization failed to \"\n",
            "/usr/local/lib/python3.11/dist-packages/statsmodels/tsa/statespace/sarimax.py:966: UserWarning: Non-stationary starting autoregressive parameters found. Using zeros as starting parameters.\n",
            "  warn('Non-stationary starting autoregressive parameters'\n",
            "/usr/local/lib/python3.11/dist-packages/statsmodels/tsa/statespace/sarimax.py:978: UserWarning: Non-invertible starting MA parameters found. Using zeros as starting parameters.\n",
            "  warn('Non-invertible starting MA parameters found.'\n"
          ]
        },
        {
          "output_type": "stream",
          "name": "stdout",
          "text": [
            "Checked ARIMA(3,2,1) → RMSE: 0.1972, MAE: 0.1874\n"
          ]
        },
        {
          "output_type": "stream",
          "name": "stderr",
          "text": [
            "/usr/local/lib/python3.11/dist-packages/statsmodels/base/model.py:607: ConvergenceWarning: Maximum Likelihood optimization failed to converge. Check mle_retvals\n",
            "  warnings.warn(\"Maximum Likelihood optimization failed to \"\n"
          ]
        },
        {
          "output_type": "stream",
          "name": "stdout",
          "text": [
            "Checked ARIMA(3,2,2) → RMSE: 0.1407, MAE: 0.1110\n"
          ]
        },
        {
          "output_type": "stream",
          "name": "stderr",
          "text": [
            "/usr/local/lib/python3.11/dist-packages/statsmodels/base/model.py:607: ConvergenceWarning: Maximum Likelihood optimization failed to converge. Check mle_retvals\n",
            "  warnings.warn(\"Maximum Likelihood optimization failed to \"\n"
          ]
        },
        {
          "output_type": "stream",
          "name": "stdout",
          "text": [
            "Checked ARIMA(3,2,3) → RMSE: 0.1349, MAE: 0.1075\n"
          ]
        },
        {
          "output_type": "stream",
          "name": "stderr",
          "text": [
            "/usr/local/lib/python3.11/dist-packages/statsmodels/base/model.py:607: ConvergenceWarning: Maximum Likelihood optimization failed to converge. Check mle_retvals\n",
            "  warnings.warn(\"Maximum Likelihood optimization failed to \"\n"
          ]
        },
        {
          "output_type": "stream",
          "name": "stdout",
          "text": [
            "Checked ARIMA(3,2,4) → RMSE: 0.1368, MAE: 0.1087\n",
            "Checked ARIMA(4,0,0) → RMSE: 0.2590, MAE: 0.1910\n",
            "Checked ARIMA(4,0,1) → RMSE: 0.2603, MAE: 0.1920\n"
          ]
        },
        {
          "output_type": "stream",
          "name": "stderr",
          "text": [
            "/usr/local/lib/python3.11/dist-packages/statsmodels/tsa/statespace/sarimax.py:966: UserWarning: Non-stationary starting autoregressive parameters found. Using zeros as starting parameters.\n",
            "  warn('Non-stationary starting autoregressive parameters'\n",
            "/usr/local/lib/python3.11/dist-packages/statsmodels/tsa/statespace/sarimax.py:978: UserWarning: Non-invertible starting MA parameters found. Using zeros as starting parameters.\n",
            "  warn('Non-invertible starting MA parameters found.'\n",
            "/usr/local/lib/python3.11/dist-packages/statsmodels/base/model.py:607: ConvergenceWarning: Maximum Likelihood optimization failed to converge. Check mle_retvals\n",
            "  warnings.warn(\"Maximum Likelihood optimization failed to \"\n"
          ]
        },
        {
          "output_type": "stream",
          "name": "stdout",
          "text": [
            "Checked ARIMA(4,0,2) → RMSE: 0.3934, MAE: 0.3136\n"
          ]
        },
        {
          "output_type": "stream",
          "name": "stderr",
          "text": [
            "/usr/local/lib/python3.11/dist-packages/statsmodels/tsa/statespace/sarimax.py:966: UserWarning: Non-stationary starting autoregressive parameters found. Using zeros as starting parameters.\n",
            "  warn('Non-stationary starting autoregressive parameters'\n",
            "/usr/local/lib/python3.11/dist-packages/statsmodels/tsa/statespace/sarimax.py:978: UserWarning: Non-invertible starting MA parameters found. Using zeros as starting parameters.\n",
            "  warn('Non-invertible starting MA parameters found.'\n"
          ]
        },
        {
          "output_type": "stream",
          "name": "stdout",
          "text": [
            "Checked ARIMA(4,0,3) → RMSE: 0.2185, MAE: 0.1601\n",
            "Checked ARIMA(4,0,4) → RMSE: 0.2603, MAE: 0.1920\n",
            "Checked ARIMA(4,1,0) → RMSE: 0.2167, MAE: 0.1588\n",
            "Checked ARIMA(4,1,1) → RMSE: 0.2167, MAE: 0.1588\n"
          ]
        },
        {
          "output_type": "stream",
          "name": "stderr",
          "text": [
            "/usr/local/lib/python3.11/dist-packages/statsmodels/tsa/statespace/sarimax.py:966: UserWarning: Non-stationary starting autoregressive parameters found. Using zeros as starting parameters.\n",
            "  warn('Non-stationary starting autoregressive parameters'\n",
            "/usr/local/lib/python3.11/dist-packages/statsmodels/tsa/statespace/sarimax.py:978: UserWarning: Non-invertible starting MA parameters found. Using zeros as starting parameters.\n",
            "  warn('Non-invertible starting MA parameters found.'\n"
          ]
        },
        {
          "output_type": "stream",
          "name": "stdout",
          "text": [
            "Checked ARIMA(4,1,2) → RMSE: 0.2167, MAE: 0.1588\n",
            "Checked ARIMA(4,1,3) → RMSE: 0.2169, MAE: 0.1589\n"
          ]
        },
        {
          "output_type": "stream",
          "name": "stderr",
          "text": [
            "/usr/local/lib/python3.11/dist-packages/statsmodels/base/model.py:607: ConvergenceWarning: Maximum Likelihood optimization failed to converge. Check mle_retvals\n",
            "  warnings.warn(\"Maximum Likelihood optimization failed to \"\n"
          ]
        },
        {
          "output_type": "stream",
          "name": "stdout",
          "text": [
            "Checked ARIMA(4,1,4) → RMSE: 0.2166, MAE: 0.1587\n",
            "Checked ARIMA(4,2,0) → RMSE: 0.0976, MAE: 0.0838\n"
          ]
        },
        {
          "output_type": "stream",
          "name": "stderr",
          "text": [
            "/usr/local/lib/python3.11/dist-packages/statsmodels/base/model.py:607: ConvergenceWarning: Maximum Likelihood optimization failed to converge. Check mle_retvals\n",
            "  warnings.warn(\"Maximum Likelihood optimization failed to \"\n"
          ]
        },
        {
          "output_type": "stream",
          "name": "stdout",
          "text": [
            "Checked ARIMA(4,2,1) → RMSE: 0.0982, MAE: 0.0844\n"
          ]
        },
        {
          "output_type": "stream",
          "name": "stderr",
          "text": [
            "/usr/local/lib/python3.11/dist-packages/statsmodels/base/model.py:607: ConvergenceWarning: Maximum Likelihood optimization failed to converge. Check mle_retvals\n",
            "  warnings.warn(\"Maximum Likelihood optimization failed to \"\n"
          ]
        },
        {
          "output_type": "stream",
          "name": "stdout",
          "text": [
            "Checked ARIMA(4,2,2) → RMSE: 0.0889, MAE: 0.0741\n"
          ]
        },
        {
          "output_type": "stream",
          "name": "stderr",
          "text": [
            "/usr/local/lib/python3.11/dist-packages/statsmodels/base/model.py:607: ConvergenceWarning: Maximum Likelihood optimization failed to converge. Check mle_retvals\n",
            "  warnings.warn(\"Maximum Likelihood optimization failed to \"\n"
          ]
        },
        {
          "output_type": "stream",
          "name": "stdout",
          "text": [
            "Checked ARIMA(4,2,3) → RMSE: 0.1400, MAE: 0.1107\n",
            "Checked ARIMA(4,2,4) → RMSE: 0.0980, MAE: 0.0813\n",
            "\n",
            "Best ARIMA order: (4, 2, 2)\n",
            "Lowest RMSE: 0.0889\n",
            "\n",
            "Refitting best model...\n"
          ]
        },
        {
          "output_type": "stream",
          "name": "stderr",
          "text": [
            "/usr/local/lib/python3.11/dist-packages/statsmodels/base/model.py:607: ConvergenceWarning: Maximum Likelihood optimization failed to converge. Check mle_retvals\n",
            "  warnings.warn(\"Maximum Likelihood optimization failed to \"\n"
          ]
        },
        {
          "output_type": "stream",
          "name": "stdout",
          "text": [
            "De-normalized RMSE: 16.6889\n",
            "De-normalized MAE: 13.9073\n"
          ]
        },
        {
          "output_type": "display_data",
          "data": {
            "text/plain": [
              "<Figure size 1200x600 with 1 Axes>"
            ],
            "image/png": "[encoded data removed]"
          },
          "metadata": {}
        }
      ]
    }
  ]
}
